{
 "cells": [
  {
   "cell_type": "code",
   "execution_count": 1,
   "metadata": {
    "scrolled": true
   },
   "outputs": [],
   "source": [
    "import numpy as np\n",
    "from macpp import MACPPAgent, MACPP\n",
    "from maf import Grid\n",
    "import matplotlib.pyplot as plt\n",
    "import json\n",
    "from matplotlib import colors\n",
    "import time\n",
    "import os\n",
    "%load_ext autoreload\n",
    "%autoreload 2"
   ]
  },
  {
   "cell_type": "code",
   "execution_count": 2,
   "metadata": {},
   "outputs": [],
   "source": [
    "l,b=50,50\n",
    "grid=np.ones((l,b))\n",
    "grid[:int(l*.3),:int(l*.3)]=0\n",
    "grid[int(l*.7):,int(l*.7):]=0\n",
    "grid[int(l*.7):,:int(l*.3)]=0\n",
    "grid[:int(l*.3),int(l*.7):]=0\n",
    "grid[int(l*.35):int(l*.65),int(l*.35):int(l*.65)]=0\n",
    "grid[int(l*.15):int(l*.17),:]=0\n",
    "grid[int(l*.17):int(l*.85),int(l*.49):int(l*.51)]=0\n",
    "grid[int(l*.85):int(l*.87),:]=0\n",
    "grid[:,int(l*.15):int(l*.17)]=0\n",
    "grid[:,int(l*.85):int(l*.87)]=0"
   ]
  },
  {
   "cell_type": "code",
   "execution_count": 3,
   "metadata": {},
   "outputs": [
    {
     "data": {
      "text/plain": [
       "<matplotlib.image.AxesImage at 0x7fb81f81cc10>"
      ]
     },
     "execution_count": 3,
     "metadata": {},
     "output_type": "execute_result"
    },
    {
     "data": {
      "image/png": "[encoded data removed]",
      "text/plain": [
       "<Figure size 432x288 with 1 Axes>"
      ]
     },
     "metadata": {
      "needs_background": "light"
     },
     "output_type": "display_data"
    }
   ],
   "source": [
    "plt.imshow(grid)"
   ]
  },
  {
   "cell_type": "code",
   "execution_count": 24,
   "metadata": {},
   "outputs": [],
   "source": [
    "#g=Grid('new_map.json')\n",
    "#grid=g.return_grid()\n",
    "m=MACPP(grid,4)\n",
    "agents=[]\n",
    "n=12\n",
    "#randomize start points in every experiment\n",
    "x,y=m.convert(0,0)\n",
    "#print(m.n*x+y)\n",
    "crds=np.ones(n)*(m.n*x+y)\n",
    "for i in range(n):\n",
    "    agents.append(MACPPAgent(0,0,i,m))\n",
    "    \n",
    "coverage_percentage=[]"
   ]
  },
  {
   "cell_type": "code",
   "execution_count": 25,
   "metadata": {},
   "outputs": [
    {
     "data": {
      "text/plain": [
       "2452"
      ]
     },
     "execution_count": 25,
     "metadata": {},
     "output_type": "execute_result"
    }
   ],
   "source": [
    "len(m.graph)"
   ]
  },
  {
   "cell_type": "code",
   "execution_count": 26,
   "metadata": {},
   "outputs": [],
   "source": [
    "i=0\n",
    "while m.marked_visited()<1:\n",
    "    if agents[i%n].state():\n",
    "        crds[i%n]=agents[i%n].next(crds)\n",
    "    i+=1\n",
    "    if i%n==0:\n",
    "        coverage_percentage.append(m.marked_visited())\n",
    "    if len(coverage_percentage)>3000:\n",
    "        print('Warning')"
   ]
  },
  {
   "cell_type": "code",
   "execution_count": 27,
   "metadata": {},
   "outputs": [
    {
     "name": "stdout",
     "output_type": "stream",
     "text": [
      "Run with 1 agents finished in 2488 moves\n",
      "Run with 2 agents finished in 1272 moves\n",
      "Run with 3 agents finished in 864 moves\n",
      "Run with 4 agents finished in 652 moves\n",
      "Run with 5 agents finished in 565 moves\n",
      "Run with 6 agents finished in 441 moves\n",
      "Run with 7 agents finished in 419 moves\n",
      "Run with 8 agents finished in 362 moves\n",
      "Run with 9 agents finished in 348 moves\n",
      "Run with 10 agents finished in 295 moves\n",
      "Run with 11 agents finished in 299 moves\n",
      "Run with 12 agents finished in 272 moves\n",
      "Run with 13 agents finished in 255 moves\n",
      "Run with 14 agents finished in 231 moves\n",
      "Run with 15 agents finished in 233 moves\n",
      "Run with 16 agents finished in 249 moves\n",
      "Run with 17 agents finished in 250 moves\n",
      "Run with 18 agents finished in 209 moves\n",
      "Run with 19 agents finished in 222 moves\n",
      "Run with 20 agents finished in 210 moves\n"
     ]
    },
    {
     "data": {
      "image/png": "[encoded data removed]",
      "text/plain": [
       "<Figure size 432x288 with 1 Axes>"
      ]
     },
     "metadata": {
      "needs_background": "light"
     },
     "output_type": "display_data"
    }
   ],
   "source": [
    "for l,b in zip([50,50],[100,100]):\n",
    "    for n in range(1,21):\n",
    "        for run in range(20):\n",
    "            grid=np.ones((l,b))\n",
    "            grid[:int(l*.3),:int(l*.3)]=0\n",
    "            grid[int(l*.7):,int(l*.7):]=0\n",
    "            grid[int(l*.7):,:int(l*.3)]=0\n",
    "            grid[:int(l*.3),int(l*.7):]=0\n",
    "            grid[int(l*.35):int(l*.65),int(l*.35):int(l*.65)]=0\n",
    "            grid[int(l*.15):int(l*.17),:]=0\n",
    "            grid[int(l*.17):int(l*.85),int(l*.49):int(l*.51)]=0\n",
    "            grid[int(l*.85):int(l*.87),:]=0\n",
    "            grid[:,int(l*.15):int(l*.17)]=0\n",
    "            grid[:,int(l*.85):int(l*.87)]=0\n",
    "            m=MACPP(grid,4)\n",
    "            agents=[]\n",
    "            #randomize start points in every experiment\n",
    "            x,y=m.convert(0,0)\n",
    "            #print(m.n*x+y)\n",
    "            crds=np.ones(n)*(m.n*x+y)\n",
    "            for i in range(n):\n",
    "                agents.append(MACPPAgent(0,0,i,m))\n",
    "\n",
    "            coverage_percentage=[]\n",
    "            i=0\n",
    "            while m.marked_visited()<1:\n",
    "                if agents[i%n].state():\n",
    "                    crds[i%n]=agents[i%n].next(crds)\n",
    "                i+=1\n",
    "                if i%n==0:\n",
    "                    coverage_percentage.append(m.marked_visited())\n",
    "                if len(coverage_percentage)>3000:\n",
    "                    print('Warning')\n",
    "                    \n",
    "            os.mkdir('macpp')\n",
    "            np.savetxt('visit_map_{}_agents_{}_run_{}x{}_map.csv'.format(n,run,l,b),\\\n",
    "                       m.visit_frequency, delimiter=',')\n",
    "            \n",
    "            coverage_percentage=np.array(coverage_percentage)\n",
    "            np.savetxt('coverage_frequency_{}_agents_{}_run_{}x{}_map.csv'.format(n,run,l,b),\\\n",
    "                       m.visit_frequency, delimiter=',')\n",
    "            print('Run with {} agents finished in {} moves'.format(n,len(coverage_percentage)))\n",
    "    #plt.plot(coverage_percentage)"
   ]
  },
  {
   "cell_type": "code",
   "execution_count": 16,
   "metadata": {},
   "outputs": [
    {
     "name": "stdout",
     "output_type": "stream",
     "text": [
      "False\n",
      "False\n",
      "False\n",
      "False\n",
      "False\n",
      "False\n",
      "False\n",
      "False\n",
      "False\n",
      "False\n",
      "False\n",
      "False\n"
     ]
    },
    {
     "ename": "IndexError",
     "evalue": "list index out of range",
     "output_type": "error",
     "traceback": [
      "\u001b[0;31m---------------------------------------------------------------------------\u001b[0m",
      "\u001b[0;31mIndexError\u001b[0m                                Traceback (most recent call last)",
      "\u001b[0;32m<ipython-input-16-153da4f85440>\u001b[0m in \u001b[0;36m<module>\u001b[0;34m\u001b[0m\n\u001b[1;32m      1\u001b[0m \u001b[0;32mfor\u001b[0m \u001b[0mi\u001b[0m \u001b[0;32min\u001b[0m \u001b[0mrange\u001b[0m\u001b[0;34m(\u001b[0m\u001b[0;36m13\u001b[0m\u001b[0;34m)\u001b[0m\u001b[0;34m:\u001b[0m\u001b[0;34m\u001b[0m\u001b[0;34m\u001b[0m\u001b[0m\n\u001b[0;32m----> 2\u001b[0;31m     \u001b[0mprint\u001b[0m\u001b[0;34m(\u001b[0m\u001b[0magents\u001b[0m\u001b[0;34m[\u001b[0m\u001b[0mi\u001b[0m\u001b[0;34m]\u001b[0m\u001b[0;34m.\u001b[0m\u001b[0mstate\u001b[0m\u001b[0;34m(\u001b[0m\u001b[0;34m)\u001b[0m\u001b[0;34m)\u001b[0m\u001b[0;34m\u001b[0m\u001b[0;34m\u001b[0m\u001b[0m\n\u001b[0m",
      "\u001b[0;31mIndexError\u001b[0m: list index out of range"
     ]
    }
   ],
   "source": [
    "for i in range(13):\n",
    "    print(agents[i].state())"
   ]
  },
  {
   "cell_type": "code",
   "execution_count": 14,
   "metadata": {},
   "outputs": [
    {
     "data": {
      "text/plain": [
       "<matplotlib.image.AxesImage at 0x7fc13a4661c0>"
      ]
     },
     "execution_count": 14,
     "metadata": {},
     "output_type": "execute_result"
    },
    {
     "data": {
      "image/png": "[encoded data removed]",
      "text/plain": [
       "<Figure size 432x288 with 1 Axes>"
      ]
     },
     "metadata": {
      "needs_background": "light"
     },
     "output_type": "display_data"
    }
   ],
   "source": [
    "plt.imshow(m.map)"
   ]
  },
  {
   "cell_type": "markdown",
   "metadata": {},
   "source": [
    "## Number of timesteps to cover the map"
   ]
  },
  {
   "cell_type": "code",
   "execution_count": 8,
   "metadata": {},
   "outputs": [
    {
     "data": {
      "text/plain": [
       "2496"
      ]
     },
     "execution_count": 8,
     "metadata": {},
     "output_type": "execute_result"
    }
   ],
   "source": [
    "#number of timesteps to cover the map\n",
    "len(coverage_percentage)"
   ]
  },
  {
   "cell_type": "markdown",
   "metadata": {},
   "source": [
    "## fraction of map covered vs timesteps"
   ]
  },
  {
   "cell_type": "code",
   "execution_count": 9,
   "metadata": {},
   "outputs": [
    {
     "data": {
      "text/plain": [
       "[<matplotlib.lines.Line2D at 0x7fc13a2c89a0>]"
      ]
     },
     "execution_count": 9,
     "metadata": {},
     "output_type": "execute_result"
    },
    {
     "data": {
      "image/png": "[encoded data removed]",
      "text/plain": [
       "<Figure size 432x288 with 1 Axes>"
      ]
     },
     "metadata": {
      "needs_background": "light"
     },
     "output_type": "display_data"
    }
   ],
   "source": [
    "plt.plot(coverage_percentage)"
   ]
  },
  {
   "cell_type": "markdown",
   "metadata": {},
   "source": [
    "### Cells marked visited by each agent"
   ]
  },
  {
   "cell_type": "code",
   "execution_count": 10,
   "metadata": {},
   "outputs": [
    {
     "data": {
      "text/plain": [
       "[<matplotlib.lines.Line2D at 0x7fc13a54e370>]"
      ]
     },
     "execution_count": 10,
     "metadata": {},
     "output_type": "execute_result"
    },
    {
     "data": {
      "image/png": "[encoded data removed]",
      "text/plain": [
       "<Figure size 432x288 with 1 Axes>"
      ]
     },
     "metadata": {
      "needs_background": "light"
     },
     "output_type": "display_data"
    }
   ],
   "source": [
    "plt.plot(np.sort(crds))"
   ]
  },
  {
   "cell_type": "code",
   "execution_count": 11,
   "metadata": {},
   "outputs": [
    {
     "data": {
      "text/plain": [
       "<matplotlib.image.AxesImage at 0x7fc13a4ed040>"
      ]
     },
     "execution_count": 11,
     "metadata": {},
     "output_type": "execute_result"
    },
    {
     "data": {
      "image/png": "[encoded data removed]",
      "text/plain": [
       "<Figure size 1800x1800 with 1 Axes>"
      ]
     },
     "metadata": {
      "needs_background": "light"
     },
     "output_type": "display_data"
    }
   ],
   "source": [
    "plt.figure(figsize=(25,25))\n",
    "#mask = np.ma.masked_greater(grid,1)\n",
    "#plt.imshow(grid)\n",
    "plt.imshow(m.visit_frequency,cmap='Greys')\n",
    "#plt.imshow(grid)"
   ]
  },
  {
   "cell_type": "markdown",
   "metadata": {},
   "source": [
    "Note: %age of cells covered once, twice, thrice, 4,5,..n times can be calculated withvisitation frequency map"
   ]
  },
  {
   "cell_type": "code",
   "execution_count": null,
   "metadata": {},
   "outputs": [],
   "source": [
    "for i in range(1,21):\n",
    "    x.append(np.sum(m.visit_frequency))"
   ]
  }
 ],
 "metadata": {
  "kernelspec": {
   "display_name": "Python 3",
   "language": "python",
   "name": "python3"
  },
  "language_info": {
   "codemirror_mode": {
    "name": "ipython",
    "version": 3
   },
   "file_extension": ".py",
   "mimetype": "text/x-python",
   "name": "python",
   "nbconvert_exporter": "python",
   "pygments_lexer": "ipython3",
   "version": "3.8.3"
  }
 },
 "nbformat": 4,
 "nbformat_minor": 4
}
