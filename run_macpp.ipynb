{
 "cells": [
  {
   "cell_type": "code",
   "execution_count": null,
   "metadata": {
    "scrolled": true
   },
   "outputs": [],
   "source": [
    "import numpy as np\n",
    "from macpp import MACPPAgent, MACPP\n",
    "from maf import Grid\n",
    "import matplotlib.pyplot as plt\n",
    "import json\n",
    "from matplotlib import colors\n",
    "import time\n",
    "import os\n",
    "import pandas as pd\n",
    "%load_ext autoreload\n",
    "%autoreload 2"
   ]
  },
  {
   "cell_type": "code",
   "execution_count": null,
   "metadata": {},
   "outputs": [],
   "source": [
    "l,b=50,50\n",
    "# grid=np.zeros((l,b))\n",
    "# grid[int(l/2),:]=-1\n",
    "# grid[int(l/2),int(b/2)]=0\n",
    "# grid[int(l/2),int(b/2)+1]=0\n",
    "# plt.imshow(grid)"
   ]
  },
  {
   "cell_type": "code",
   "execution_count": null,
   "metadata": {},
   "outputs": [],
   "source": [
    "def run_simulation(num_agents):\n",
    "    g=Grid('map_50x50.json')\n",
    "    grid=g.return_grid()\n",
    "    m=MACPP(grid,4)\n",
    "    agents=[]\n",
    "    n=num_agents\n",
    "\n",
    "    #randomize start points in every experiment\n",
    "    #idxes are numpy coordinates. convert them to cartesian\n",
    "    idxes=np.argwhere(grid==0)\n",
    "    start=np.random.randint(len(idxes))\n",
    "\n",
    "    #reverse convert from numpy coordinates to cartesian coordinates\n",
    "    x, y = m.reverse_convert(idxes[start][0],idxes[start][1])\n",
    "    print(x,y)\n",
    "\n",
    "    #print(m.n*x+y)\n",
    "    #this is the 1D coordinate of numpy coordinates\n",
    "    crds=np.ones(n)*(m.n*x+y)\n",
    "    for i in range(n):\n",
    "        #x and y are cartesian coordinates\n",
    "        agents.append(MACPPAgent(x,y,i,m))\n",
    "        \n",
    "    coverage_percentage=[]\n",
    "\n",
    "    i=0\n",
    "    while m.marked_visited()<1:\n",
    "        if agents[i%n].state():\n",
    "            crds[i%n]=agents[i%n].next(crds)\n",
    "            # to record x and y coodinates of agents\n",
    "            # x,y=agents[i%n].x,agents[i%n].y\n",
    "        i+=1\n",
    "        if i%n==0:\n",
    "            print(i%n,m.covered(),end=' | ')\n",
    "            coverage_percentage.append(m.marked_visited())\n",
    "    # return variables to save: coverage percentage, crds, visit_freq\n",
    "    return coverage_percentage, crds, m.visit_frequency"
   ]
  },
  {
   "cell_type": "code",
   "execution_count": null,
   "metadata": {},
   "outputs": [],
   "source": [
    "num_runs=20\n",
    "num_agents=20\n",
    "\n",
    "for num_agent in range(2, num_agents+1):\n",
    "\tfor run in range(num_runs):\n",
    "\t\t#get the returned data and store it in csv\n",
    "\t\tcoverage_percentage, crds, visit_freq = run_simulation(num_agent)\n",
    "\n",
    "\t\tdf=pd.DataFrame(coverage_percentage)\n",
    "\t\tdf.to_csv(r'data/coverage_percentage.csv', mode='a')\n",
    "\n",
    "\t\tdf=pd.DataFrame(crds)\n",
    "\t\tdf.to_csv(r'data/agent_area_dist.csv', mode='a')\n",
    "\n",
    "\t\tdf=pd.DataFrame(visit_freq)\n",
    "\t\tdf.to_csv(r'data/visit_freq.csv', mode='a')\n",
    "\n",
    "\t\ttempCounter=0\n",
    "\t\tfor row in visit_freq:\n",
    "\t\t\tfor colVal in row:\n",
    "\t\t\t\tif colVal>1:\n",
    "\t\t\t\t\ttempCounter+=1\n",
    "\n",
    "\t\toverlapped_cells_percentage=tempCounter/(l*b)\n",
    "\n",
    "\t\tdf=pd.DataFrame([overlapped_cells_percentage])\n",
    "\t\tdf.to_csv(r'data/overlapped_cells_percentage.csv', mode='a')\n",
    "\t\tprint(f'finished {run} run(s) for {num_agent} agents')"
   ]
  }
 ],
 "metadata": {
  "kernelspec": {
   "display_name": "Python 3 (ipykernel)",
   "language": "python",
   "name": "python3"
  },
  "language_info": {
   "codemirror_mode": {
    "name": "ipython",
    "version": 3
   },
   "file_extension": ".py",
   "mimetype": "text/x-python",
   "name": "python",
   "nbconvert_exporter": "python",
   "pygments_lexer": "ipython3",
   "version": "3.10.1"
  }
 },
 "nbformat": 4,
 "nbformat_minor": 4
}
